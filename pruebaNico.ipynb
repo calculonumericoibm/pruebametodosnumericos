{
  "nbformat": 4,
  "nbformat_minor": 0,
  "metadata": {
    "colab": {
      "name": "pruebaNico.ipynb",
      "provenance": [],
      "collapsed_sections": [],
      "authorship_tag": "ABX9TyMFP0LfxstUz/3FqQsWLug1",
      "include_colab_link": true
    },
    "kernelspec": {
      "name": "python3",
      "display_name": "Python 3"
    },
    "language_info": {
      "name": "python"
    }
  },
  "cells": [
    {
      "cell_type": "markdown",
      "metadata": {
        "id": "view-in-github",
        "colab_type": "text"
      },
      "source": [
        "<a href=\"https://colab.research.google.com/github/calculonumericoibm/pruebametodosnumericos/blob/main/pruebaNico.ipynb\" target=\"_parent\"><img src=\"https://colab.research.google.com/assets/colab-badge.svg\" alt=\"Open In Colab\"/></a>"
      ]
    },
    {
      "cell_type": "markdown",
      "metadata": {
        "id": "ExfhihOwlHMH"
      },
      "source": [
        "# Esto es una página "
      ]
    },
    {
      "cell_type": "code",
      "metadata": {
        "colab": {
          "base_uri": "https://localhost:8080/"
        },
        "id": "NVClU7Mzmenz",
        "outputId": "e21bd465-7539-44fd-d8a4-e95750b73c43"
      },
      "source": [
        "texto = \"hola mundo\"\n",
        "print(texto)"
      ],
      "execution_count": 1,
      "outputs": [
        {
          "output_type": "stream",
          "text": [
            "hola mundo\n"
          ],
          "name": "stdout"
        }
      ]
    },
    {
      "cell_type": "code",
      "metadata": {
        "id": "Pn9yvBw7oLN1"
      },
      "source": [
        "# desafío Agustín\n",
        "\n",
        "def entrada():\n",
        "  x = 'a'\n",
        "  while x.isdigit() == False:\n",
        "    x = input(\"Ingresa un numero: \")\n",
        "  return x\n",
        "\n",
        "entrada()"
      ],
      "execution_count": null,
      "outputs": []
    },
    {
      "cell_type": "code",
      "metadata": {
        "colab": {
          "base_uri": "https://localhost:8080/"
        },
        "id": "BAikxoXGqylu",
        "outputId": "02b7259d-f85d-4301-c3fc-15faf7eb12c2"
      },
      "source": [
        "type(ingreso)!= str  "
      ],
      "execution_count": 5,
      "outputs": [
        {
          "output_type": "execute_result",
          "data": {
            "text/plain": [
              "False"
            ]
          },
          "metadata": {},
          "execution_count": 5
        }
      ]
    },
    {
      "cell_type": "code",
      "metadata": {
        "colab": {
          "base_uri": "https://localhost:8080/"
        },
        "id": "_kjQtQcHsXOG",
        "outputId": "323c23be-b44f-487e-fa59-48b4aca11b50"
      },
      "source": [
        "# desafío Agustín by Pedro\n",
        "\n",
        "def NumeroOCaracter (valorInput):\n",
        "    if str. isdigit(valorInput) == True:\n",
        "        print(\" es un numero \")\n",
        "    else:\n",
        "        print(\" es un caracter\")\n",
        "\n",
        "valorIngresado = input(\"Ingrese un numero o un caracter\")\n",
        "\n",
        "NumeroOCaracter(valorIngresado)"
      ],
      "execution_count": 13,
      "outputs": [
        {
          "output_type": "stream",
          "text": [
            "Ingrese un numero o un caracterasdasdasf2\n",
            " es un caracter\n"
          ],
          "name": "stdout"
        }
      ]
    },
    {
      "cell_type": "code",
      "metadata": {
        "colab": {
          "base_uri": "https://localhost:8080/"
        },
        "id": "ivwCh0dhyfaH",
        "outputId": "b402549e-dea2-4ddb-c1bd-1f62bd1591f6"
      },
      "source": [
        "# Sofía\n",
        "presentes = [\"a\",\"b\",\"c\",\"d\"]\n",
        "contador = 0\n",
        "for p in presentes:\n",
        "  contador = contador + 1\n",
        "print(contador)"
      ],
      "execution_count": 18,
      "outputs": [
        {
          "output_type": "stream",
          "text": [
            "4\n"
          ],
          "name": "stdout"
        }
      ]
    },
    {
      "cell_type": "code",
      "metadata": {
        "colab": {
          "base_uri": "https://localhost:8080/"
        },
        "id": "j6m1sid92vxF",
        "outputId": "c50b142e-81a5-4902-d8d7-3ff723128911"
      },
      "source": [
        "#deafío Angél\n",
        "\n",
        "try:\n",
        "  n1=(int(input(\"Ingrese el primer numero: \")))\n",
        "  n2=(int(input(\"Ingrese el segundo numero: \")))\n",
        "except ValueError:\n",
        "  print(\"Valor ingresado erroneo\")"
      ],
      "execution_count": 19,
      "outputs": [
        {
          "output_type": "stream",
          "text": [
            "Ingrese el primer numero: 3\n",
            "Ingrese el segundo numero: 3\n"
          ],
          "name": "stdout"
        }
      ]
    }
  ]
}