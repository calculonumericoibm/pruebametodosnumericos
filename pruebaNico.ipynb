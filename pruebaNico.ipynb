{
  "nbformat": 4,
  "nbformat_minor": 0,
  "metadata": {
    "colab": {
      "name": "pruebaNico.ipynb",
      "provenance": [],
      "collapsed_sections": [],
      "authorship_tag": "ABX9TyMV1jQrr3En03YxwFZge0vG",
      "include_colab_link": true
    },
    "kernelspec": {
      "name": "python3",
      "display_name": "Python 3"
    },
    "language_info": {
      "name": "python"
    }
  },
  "cells": [
    {
      "cell_type": "markdown",
      "metadata": {
        "id": "view-in-github",
        "colab_type": "text"
      },
      "source": [
        "<a href=\"https://colab.research.google.com/github/calculonumericoibm/pruebametodosnumericos/blob/main/pruebaNico.ipynb\" target=\"_parent\"><img src=\"https://colab.research.google.com/assets/colab-badge.svg\" alt=\"Open In Colab\"/></a>"
      ]
    },
    {
      "cell_type": "markdown",
      "metadata": {
        "id": "ExfhihOwlHMH"
      },
      "source": [
        "# Esto es una página "
      ]
    },
    {
      "cell_type": "code",
      "metadata": {
        "colab": {
          "base_uri": "https://localhost:8080/"
        },
        "id": "NVClU7Mzmenz",
        "outputId": "e21bd465-7539-44fd-d8a4-e95750b73c43"
      },
      "source": [
        "texto = \"hola mundo\"\n",
        "print(texto)"
      ],
      "execution_count": 1,
      "outputs": [
        {
          "output_type": "stream",
          "text": [
            "hola mundo\n"
          ],
          "name": "stdout"
        }
      ]
    },
    {
      "cell_type": "code",
      "metadata": {
        "colab": {
          "base_uri": "https://localhost:8080/"
        },
        "id": "Pn9yvBw7oLN1",
        "outputId": "ddfdd13f-cfb3-4722-e793-cb3110e8a36c"
      },
      "source": [
        "# desafío Agustín\n",
        "\n",
        "def entrada():\n",
        "  x = 'a'\n",
        "  while x.isdigit() == False:\n",
        "    x = input(\"Ingresa un numero: \")\n",
        "  return x"
      ],
      "execution_count": 9,
      "outputs": [
        {
          "output_type": "stream",
          "text": [
            "3\n"
          ],
          "name": "stdout"
        }
      ]
    },
    {
      "cell_type": "code",
      "metadata": {
        "colab": {
          "base_uri": "https://localhost:8080/"
        },
        "id": "BAikxoXGqylu",
        "outputId": "02b7259d-f85d-4301-c3fc-15faf7eb12c2"
      },
      "source": [
        "type(ingreso)!= str  "
      ],
      "execution_count": 5,
      "outputs": [
        {
          "output_type": "execute_result",
          "data": {
            "text/plain": [
              "False"
            ]
          },
          "metadata": {},
          "execution_count": 5
        }
      ]
    },
    {
      "cell_type": "code",
      "metadata": {
        "id": "_kjQtQcHsXOG"
      },
      "source": [
        ""
      ],
      "execution_count": 11,
      "outputs": []
    }
  ]
}