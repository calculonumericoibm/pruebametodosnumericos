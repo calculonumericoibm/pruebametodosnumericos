{
  "nbformat": 4,
  "nbformat_minor": 0,
  "metadata": {
    "colab": {
      "name": "pruebaNico.ipynb",
      "provenance": [],
      "authorship_tag": "ABX9TyNtLVQseFM3JTIoNCGA4EFP",
      "include_colab_link": true
    },
    "kernelspec": {
      "name": "python3",
      "display_name": "Python 3"
    },
    "language_info": {
      "name": "python"
    }
  },
  "cells": [
    {
      "cell_type": "markdown",
      "metadata": {
        "id": "view-in-github",
        "colab_type": "text"
      },
      "source": [
        "<a href=\"https://colab.research.google.com/github/calculonumericoibm/pruebametodosnumericos/blob/main/pruebaNico.ipynb\" target=\"_parent\"><img src=\"https://colab.research.google.com/assets/colab-badge.svg\" alt=\"Open In Colab\"/></a>"
      ]
    },
    {
      "cell_type": "markdown",
      "metadata": {
        "id": "ExfhihOwlHMH"
      },
      "source": [
        "# Esto es una página de código"
      ]
    }
  ]
}